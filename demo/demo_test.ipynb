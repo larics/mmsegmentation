{
 "cells": [
  {
   "cell_type": "code",
   "execution_count": 1,
   "id": "71490f9e",
   "metadata": {},
   "outputs": [],
   "source": [
    "from mmseg.apis import MMSegInferencer"
   ]
  },
  {
   "cell_type": "code",
   "execution_count": 2,
   "id": "2bfd8df5",
   "metadata": {},
   "outputs": [
    {
     "name": "stdout",
     "output_type": "stream",
     "text": [
      "Loads checkpoint by http backend from path: https://download.openmmlab.com/mmsegmentation/v0.5/segformer/segformer_mit-b2_512x512_160k_ade20k/segformer_mit-b2_512x512_160k_ade20k_20210726_112103-cbd414ac.pth\n"
     ]
    },
    {
     "name": "stderr",
     "output_type": "stream",
     "text": [
      "Downloading: \"https://download.openmmlab.com/mmsegmentation/v0.5/segformer/segformer_mit-b2_512x512_160k_ade20k/segformer_mit-b2_512x512_160k_ade20k_20210726_112103-cbd414ac.pth\" to /home/zozan-server/.cache/torch/hub/checkpoints/segformer_mit-b2_512x512_160k_ade20k_20210726_112103-cbd414ac.pth\n",
      "/home/zozan-server/Work/FER/mmsegmentation/mmseg/models/builder.py:36: UserWarning: ``build_loss`` would be deprecated soon, please use ``mmseg.registry.MODELS.build()`` \n",
      "  warnings.warn('``build_loss`` would be deprecated soon, please use '\n",
      "/home/zozan-server/Work/FER/mmsegmentation/mmseg/models/losses/cross_entropy_loss.py:235: UserWarning: Default ``avg_non_ignore`` is False, if you would like to ignore the certain label and average loss over non-ignore labels, which is the same with PyTorch official cross_entropy, set ``avg_non_ignore=True``.\n",
      "  warnings.warn(\n"
     ]
    },
    {
     "name": "stdout",
     "output_type": "stream",
     "text": [
      "05/22 16:39:33 - mmengine - \u001b[5m\u001b[4m\u001b[33mWARNING\u001b[0m - Failed to search registry with scope \"mmseg\" in the \"function\" registry tree. As a workaround, the current \"function\" registry in \"mmengine\" is used to build instance. This may cause unexpected failure when running the built modules. Please check whether \"mmseg\" is a correct scope, or whether the registry is initialized.\n",
      "05/22 16:39:33 - mmengine - \u001b[5m\u001b[4m\u001b[33mWARNING\u001b[0m - `Visualizer` backend is not initialized because save_dir is None.\n"
     ]
    }
   ],
   "source": [
    "inferencer = MMSegInferencer(model='segformer_mit-b2_8xb2-160k_ade20k-512x512')"
   ]
  },
  {
   "cell_type": "code",
   "execution_count": 5,
   "id": "1f4b33f5",
   "metadata": {},
   "outputs": [
    {
     "data": {
      "text/html": [
       "<pre style=\"white-space:pre;overflow-x:auto;line-height:normal;font-family:Menlo,'DejaVu Sans Mono',consolas,'Courier New',monospace\"></pre>\n"
      ],
      "text/plain": []
     },
     "metadata": {},
     "output_type": "display_data"
    },
    {
     "data": {
      "text/html": [
       "<pre style=\"white-space:pre;overflow-x:auto;line-height:normal;font-family:Menlo,'DejaVu Sans Mono',consolas,'Courier New',monospace\">\n",
       "</pre>\n"
      ],
      "text/plain": [
       "\n"
      ]
     },
     "metadata": {},
     "output_type": "display_data"
    },
    {
     "data": {
      "text/plain": [
       "{'predictions': array([[ 1,  1,  1, ...,  1,  1,  1],\n",
       "        [ 1,  1,  1, ...,  1,  1,  1],\n",
       "        [ 1,  1,  1, ...,  1,  1,  1],\n",
       "        ...,\n",
       "        [ 6,  6,  6, ..., 11, 11, 11],\n",
       "        [ 6,  6,  6, ..., 11, 11, 11],\n",
       "        [ 6,  6,  6, ..., 11, 11, 11]]),\n",
       " 'visualization': array([[[166, 121, 117],\n",
       "         [160, 117, 114],\n",
       "         [152, 107, 108],\n",
       "         ...,\n",
       "         [167, 123, 121],\n",
       "         [167, 123, 121],\n",
       "         [167, 123, 121]],\n",
       " \n",
       "        [[166, 121, 118],\n",
       "         [162, 117, 115],\n",
       "         [152, 107, 108],\n",
       "         ...,\n",
       "         [167, 123, 121],\n",
       "         [168, 123, 120],\n",
       "         [167, 123, 121]],\n",
       " \n",
       "        [[164, 121, 119],\n",
       "         [160, 116, 116],\n",
       "         [152, 107, 108],\n",
       "         ...,\n",
       "         [167, 123, 121],\n",
       "         [167, 123, 121],\n",
       "         [167, 123, 121]],\n",
       " \n",
       "        ...,\n",
       " \n",
       "        [[122, 124, 123],\n",
       "         [122, 124, 123],\n",
       "         [122, 124, 122],\n",
       "         ...,\n",
       "         [201, 219,  19],\n",
       "         [201, 220,  19],\n",
       "         [202, 220,  20]],\n",
       " \n",
       "        [[122, 124, 122],\n",
       "         [122, 124, 123],\n",
       "         [121, 124, 122],\n",
       "         ...,\n",
       "         [196, 215,  15],\n",
       "         [196, 215,  14],\n",
       "         [196, 215,  15]],\n",
       " \n",
       "        [[122, 124, 122],\n",
       "         [122, 124, 123],\n",
       "         [121, 124, 122],\n",
       "         ...,\n",
       "         [197, 215,  14],\n",
       "         [196, 215,  15],\n",
       "         [196, 215,  15]]], dtype=uint8)}"
      ]
     },
     "execution_count": 5,
     "metadata": {},
     "output_type": "execute_result"
    }
   ],
   "source": [
    "inferencer('../demo/demo.png', show=True)"
   ]
  },
  {
   "cell_type": "code",
   "execution_count": null,
   "id": "c899e9a5",
   "metadata": {},
   "outputs": [],
   "source": []
  }
 ],
 "metadata": {
  "kernelspec": {
   "display_name": "mmsegmentation",
   "language": "python",
   "name": "mmsegmentation"
  },
  "language_info": {
   "codemirror_mode": {
    "name": "ipython",
    "version": 3
   },
   "file_extension": ".py",
   "mimetype": "text/x-python",
   "name": "python",
   "nbconvert_exporter": "python",
   "pygments_lexer": "ipython3",
   "version": "3.8.16"
  }
 },
 "nbformat": 4,
 "nbformat_minor": 5
}
