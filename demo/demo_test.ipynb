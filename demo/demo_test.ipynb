{
 "cells": [
  {
   "cell_type": "code",
   "execution_count": 1,
   "id": "c6ba7320",
   "metadata": {},
   "outputs": [],
   "source": [
    "from mmseg.apis import MMSegInferencer\n",
    "from mmseg.apis import init_model, inference_model, show_result_pyplot"
   ]
  },
  {
   "cell_type": "code",
   "execution_count": null,
   "id": "7de289c2",
   "metadata": {},
   "outputs": [
    {
     "name": "stdout",
     "output_type": "stream",
     "text": [
      "Loads checkpoint by http backend from path: https://download.openmmlab.com/mmsegmentation/v0.5/segformer/segformer_mit-b2_512x512_160k_ade20k/segformer_mit-b2_512x512_160k_ade20k_20210726_112103-cbd414ac.pth\n"
     ]
    },
    {
     "name": "stderr",
     "output_type": "stream",
     "text": [
      "/home/zozan-server/Work/FER/mmsegmentation/mmseg/models/builder.py:36: UserWarning: ``build_loss`` would be deprecated soon, please use ``mmseg.registry.MODELS.build()`` \n",
      "  warnings.warn('``build_loss`` would be deprecated soon, please use '\n",
      "/home/zozan-server/Work/FER/mmsegmentation/mmseg/models/losses/cross_entropy_loss.py:235: UserWarning: Default ``avg_non_ignore`` is False, if you would like to ignore the certain label and average loss over non-ignore labels, which is the same with PyTorch official cross_entropy, set ``avg_non_ignore=True``.\n",
      "  warnings.warn(\n"
     ]
    }
   ],
   "source": [
    "inferencer = MMSegInferencer(model='segformer_mit-b2_8xb2-160k_ade20k-512x512')"
   ]
  },
  {
   "cell_type": "code",
   "execution_count": null,
   "id": "93fcd147",
   "metadata": {},
   "outputs": [],
   "source": [
    "result = inferencer('../demo/demo.png', show=True)"
   ]
  },
  {
   "cell_type": "markdown",
   "id": "ea74fce4",
   "metadata": {},
   "source": [
    "## TODO: \n",
    "\n",
    "- [x] Install environment for the SegFormer \n",
    "- [x] Find info about datasets and config files for SegFormer\n",
    "- [ ] Export conda environment \n",
    "- [ ] [Configs](https://mmsegmentation.readthedocs.io/en/latest/user_guides/1_config.html) \n",
    "- [ ] [Prepare datasets](https://mmsegmentation.readthedocs.io/en/latest/user_guides/2_dataset_prepare.html) \n",
    "- [ ] Check COCO Stuff 10k \n",
    "- [ ] Create custom dataset"
   ]
  },
  {
   "cell_type": "code",
   "execution_count": null,
   "id": "041492d7",
   "metadata": {},
   "outputs": [],
   "source": [
    "# show the results\n",
    "img = 'demo.png'\n",
    "vis_result = show_result_pyplot(inferencer, img, result)\n",
    "plt.imshow(mmcv.bgr2rgb(vis_result))"
   ]
  },
  {
   "cell_type": "code",
   "execution_count": null,
   "id": "5d7fc10f",
   "metadata": {},
   "outputs": [],
   "source": []
  }
 ],
 "metadata": {
  "kernelspec": {
   "display_name": "mmsegmentation",
   "language": "python",
   "name": "mmsegmentation"
  },
  "language_info": {
   "codemirror_mode": {
    "name": "ipython",
    "version": 3
   },
   "file_extension": ".py",
   "mimetype": "text/x-python",
   "name": "python",
   "nbconvert_exporter": "python",
   "pygments_lexer": "ipython3",
   "version": "3.8.16"
  }
 },
 "nbformat": 4,
 "nbformat_minor": 5
}
