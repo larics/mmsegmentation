{
 "cells": [
  {
   "cell_type": "code",
   "execution_count": 4,
   "id": "c6ba7320",
   "metadata": {},
   "outputs": [],
   "source": [
    "from mmseg.apis import MMSegInferencer\n",
    "from mmseg.apis import init_model, inference_model, show_result_pyplot"
   ]
  },
  {
   "cell_type": "code",
   "execution_count": 5,
   "id": "7de289c2",
   "metadata": {},
   "outputs": [
    {
     "name": "stdout",
     "output_type": "stream",
     "text": [
      "Loads checkpoint by http backend from path: https://download.openmmlab.com/mmsegmentation/v0.5/segformer/segformer_mit-b2_512x512_160k_ade20k/segformer_mit-b2_512x512_160k_ade20k_20210726_112103-cbd414ac.pth\n"
     ]
    },
    {
     "name": "stderr",
     "output_type": "stream",
     "text": [
      "/home/zozan-server/Work/FER/mmsegmentation/mmseg/models/builder.py:36: UserWarning: ``build_loss`` would be deprecated soon, please use ``mmseg.registry.MODELS.build()`` \n",
      "  warnings.warn('``build_loss`` would be deprecated soon, please use '\n",
      "/home/zozan-server/Work/FER/mmsegmentation/mmseg/models/losses/cross_entropy_loss.py:235: UserWarning: Default ``avg_non_ignore`` is False, if you would like to ignore the certain label and average loss over non-ignore labels, which is the same with PyTorch official cross_entropy, set ``avg_non_ignore=True``.\n",
      "  warnings.warn(\n"
     ]
    }
   ],
   "source": [
    "inferencer = MMSegInferencer(model='segformer_mit-b2_8xb2-160k_ade20k-512x512')"
   ]
  },
  {
   "cell_type": "code",
   "execution_count": 6,
   "id": "93fcd147",
   "metadata": {},
   "outputs": [
    {
     "data": {
      "application/vnd.jupyter.widget-view+json": {
       "model_id": "c6969f9a4dd84b43897d557ce5fb0898",
       "version_major": 2,
       "version_minor": 0
      },
      "text/plain": [
       "Output()"
      ]
     },
     "metadata": {},
     "output_type": "display_data"
    },
    {
     "data": {
      "text/html": [
       "<pre style=\"white-space:pre;overflow-x:auto;line-height:normal;font-family:Menlo,'DejaVu Sans Mono',consolas,'Courier New',monospace\"></pre>\n"
      ],
      "text/plain": []
     },
     "metadata": {},
     "output_type": "display_data"
    },
    {
     "data": {
      "text/html": [
       "<pre style=\"white-space:pre;overflow-x:auto;line-height:normal;font-family:Menlo,'DejaVu Sans Mono',consolas,'Courier New',monospace\">\n",
       "</pre>\n"
      ],
      "text/plain": [
       "\n"
      ]
     },
     "metadata": {},
     "output_type": "display_data"
    }
   ],
   "source": [
    "result = inferencer('../demo/demo.png', show=True)"
   ]
  },
  {
   "cell_type": "markdown",
   "id": "ea74fce4",
   "metadata": {},
   "source": [
    "## TODO: \n",
    "\n",
    "- [x] Install environment for the SegFormer \n",
    "- [x] Find info about datasets and config files for SegFormer\n",
    "- [ ] Export conda environment \n",
    "- [ ] [Configs](https://mmsegmentation.readthedocs.io/en/latest/user_guides/1_config.html) \n",
    "- [ ] [Prepare datasets](https://mmsegmentation.readthedocs.io/en/latest/user_guides/2_dataset_prepare.html) \n",
    "- [ ] Check COCO Stuff 10k \n",
    "- [ ] Create custom dataset"
   ]
  },
  {
   "cell_type": "code",
   "execution_count": 9,
   "id": "041492d7",
   "metadata": {},
   "outputs": [
    {
     "ename": "AttributeError",
     "evalue": "'MMSegInferencer' object has no attribute 'dataset_meta'",
     "output_type": "error",
     "traceback": [
      "\u001b[0;31m---------------------------------------------------------------------------\u001b[0m",
      "\u001b[0;31mAttributeError\u001b[0m                            Traceback (most recent call last)",
      "Cell \u001b[0;32mIn[9], line 4\u001b[0m\n\u001b[1;32m      1\u001b[0m \u001b[38;5;66;03m# show the results\u001b[39;00m\n\u001b[1;32m      2\u001b[0m img \u001b[38;5;241m=\u001b[39m \u001b[38;5;124m'\u001b[39m\u001b[38;5;124mdemo.png\u001b[39m\u001b[38;5;124m'\u001b[39m\n\u001b[0;32m----> 4\u001b[0m vis_result \u001b[38;5;241m=\u001b[39m \u001b[43mshow_result_pyplot\u001b[49m\u001b[43m(\u001b[49m\u001b[43minferencer\u001b[49m\u001b[43m,\u001b[49m\u001b[43m \u001b[49m\u001b[43mimg\u001b[49m\u001b[43m,\u001b[49m\u001b[43m \u001b[49m\u001b[43mresult\u001b[49m\u001b[43m)\u001b[49m\n\u001b[1;32m      5\u001b[0m plt\u001b[38;5;241m.\u001b[39mimshow(mmcv\u001b[38;5;241m.\u001b[39mbgr2rgb(vis_result))\n",
      "File \u001b[0;32m~/Work/FER/mmsegmentation/mmseg/apis/inference.py:201\u001b[0m, in \u001b[0;36mshow_result_pyplot\u001b[0;34m(model, img, result, opacity, title, draw_gt, draw_pred, wait_time, show, save_dir, out_file)\u001b[0m\n\u001b[1;32m    195\u001b[0m \u001b[38;5;66;03m# init visualizer\u001b[39;00m\n\u001b[1;32m    196\u001b[0m visualizer \u001b[38;5;241m=\u001b[39m SegLocalVisualizer(\n\u001b[1;32m    197\u001b[0m     vis_backends\u001b[38;5;241m=\u001b[39m[\u001b[38;5;28mdict\u001b[39m(\u001b[38;5;28mtype\u001b[39m\u001b[38;5;241m=\u001b[39m\u001b[38;5;124m'\u001b[39m\u001b[38;5;124mLocalVisBackend\u001b[39m\u001b[38;5;124m'\u001b[39m)],\n\u001b[1;32m    198\u001b[0m     save_dir\u001b[38;5;241m=\u001b[39msave_dir,\n\u001b[1;32m    199\u001b[0m     alpha\u001b[38;5;241m=\u001b[39mopacity)\n\u001b[1;32m    200\u001b[0m visualizer\u001b[38;5;241m.\u001b[39mdataset_meta \u001b[38;5;241m=\u001b[39m \u001b[38;5;28mdict\u001b[39m(\n\u001b[0;32m--> 201\u001b[0m     classes\u001b[38;5;241m=\u001b[39m\u001b[43mmodel\u001b[49m\u001b[38;5;241;43m.\u001b[39;49m\u001b[43mdataset_meta\u001b[49m[\u001b[38;5;124m'\u001b[39m\u001b[38;5;124mclasses\u001b[39m\u001b[38;5;124m'\u001b[39m],\n\u001b[1;32m    202\u001b[0m     palette\u001b[38;5;241m=\u001b[39mmodel\u001b[38;5;241m.\u001b[39mdataset_meta[\u001b[38;5;124m'\u001b[39m\u001b[38;5;124mpalette\u001b[39m\u001b[38;5;124m'\u001b[39m])\n\u001b[1;32m    203\u001b[0m visualizer\u001b[38;5;241m.\u001b[39madd_datasample(\n\u001b[1;32m    204\u001b[0m     name\u001b[38;5;241m=\u001b[39mtitle,\n\u001b[1;32m    205\u001b[0m     image\u001b[38;5;241m=\u001b[39mimage,\n\u001b[0;32m   (...)\u001b[0m\n\u001b[1;32m    210\u001b[0m     out_file\u001b[38;5;241m=\u001b[39mout_file,\n\u001b[1;32m    211\u001b[0m     show\u001b[38;5;241m=\u001b[39mshow)\n\u001b[1;32m    212\u001b[0m vis_img \u001b[38;5;241m=\u001b[39m visualizer\u001b[38;5;241m.\u001b[39mget_image()\n",
      "\u001b[0;31mAttributeError\u001b[0m: 'MMSegInferencer' object has no attribute 'dataset_meta'"
     ]
    }
   ],
   "source": [
    "# show the results\n",
    "img = 'demo.png'\n",
    "vis_result = show_result_pyplot(inferencer, img, result)\n",
    "plt.imshow(mmcv.bgr2rgb(vis_result))"
   ]
  },
  {
   "cell_type": "code",
   "execution_count": null,
   "id": "5d7fc10f",
   "metadata": {},
   "outputs": [],
   "source": []
  }
 ],
 "metadata": {
  "kernelspec": {
   "display_name": "mmsegmentation",
   "language": "python",
   "name": "mmsegmentation"
  },
  "language_info": {
   "codemirror_mode": {
    "name": "ipython",
    "version": 3
   },
   "file_extension": ".py",
   "mimetype": "text/x-python",
   "name": "python",
   "nbconvert_exporter": "python",
   "pygments_lexer": "ipython3",
   "version": "3.8.16"
  }
 },
 "nbformat": 4,
 "nbformat_minor": 5
}
